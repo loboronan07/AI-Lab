{
 "cells": [
  {
   "cell_type": "code",
   "execution_count": 21,
   "id": "87a5f304",
   "metadata": {},
   "outputs": [],
   "source": [
    "class Graph:\n",
    "    def __init__(self, n):\n",
    "        self.n = n;\n",
    "        self.adjmat = []\n",
    "        for i in range(n):\n",
    "            self.adjmat.append([0 for j in range(n)])\n",
    "        \n",
    "    def addedge(self, u, v):\n",
    "        self.adjmat[u][v] = 1;"
   ]
  },
  {
   "cell_type": "code",
   "execution_count": 28,
   "id": "b327d31d",
   "metadata": {},
   "outputs": [],
   "source": [
    "def topsort(g):\n",
    "    stack = []\n",
    "    visited = set()\n",
    "    \n",
    "    for i in range(g.n):\n",
    "        if i not in visited:\n",
    "            dfs(g, i, stack, visited)\n",
    "    \n",
    "    while stack:\n",
    "        print(f\"{stack.pop()} \", end=\"\")\n",
    "        \n",
    "    \n",
    "def dfs(g, v, stack, visited):\n",
    "    visited.add(v)\n",
    "    \n",
    "    for i in range(g.n):\n",
    "        if g.adjmat[v][i] == 1 and i not in visited:\n",
    "            dfs(g, i, stack, visited)\n",
    "    \n",
    "    stack.append(v)"
   ]
  },
  {
   "cell_type": "code",
   "execution_count": 29,
   "id": "2db77595",
   "metadata": {},
   "outputs": [],
   "source": [
    "g = Graph(6)\n",
    "g.addedge(5, 0)\n",
    "g.addedge(5, 2)\n",
    "g.addedge(4, 0)\n",
    "g.addedge(4, 1)\n",
    "g.addedge(2, 3)\n",
    "g.addedge(3, 1)"
   ]
  },
  {
   "cell_type": "code",
   "execution_count": 30,
   "id": "e85e2e5d",
   "metadata": {},
   "outputs": [
    {
     "name": "stdout",
     "output_type": "stream",
     "text": [
      "5 4 2 3 1 0 "
     ]
    }
   ],
   "source": [
    "topsort(g)"
   ]
  },
  {
   "cell_type": "code",
   "execution_count": null,
   "id": "9ca204fa",
   "metadata": {},
   "outputs": [],
   "source": []
  }
 ],
 "metadata": {
  "kernelspec": {
   "display_name": "Python 3 (ipykernel)",
   "language": "python",
   "name": "python3"
  },
  "language_info": {
   "codemirror_mode": {
    "name": "ipython",
    "version": 3
   },
   "file_extension": ".py",
   "mimetype": "text/x-python",
   "name": "python",
   "nbconvert_exporter": "python",
   "pygments_lexer": "ipython3",
   "version": "3.10.6"
  }
 },
 "nbformat": 4,
 "nbformat_minor": 5
}
