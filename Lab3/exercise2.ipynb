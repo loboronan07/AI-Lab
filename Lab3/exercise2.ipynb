{
 "cells": [
  {
   "cell_type": "code",
   "execution_count": 1,
   "id": "230d07d9",
   "metadata": {},
   "outputs": [],
   "source": [
    "class Graph:\n",
    "    def __init__(self, n):\n",
    "        self.n = n;\n",
    "        self.adjmat = []\n",
    "        for i in range(n):\n",
    "            self.adjmat.append([0 for j in range(n)])\n",
    "        \n",
    "    def addedge(self, u, v):\n",
    "        self.adjmat[u][v] = 1;"
   ]
  },
  {
   "cell_type": "code",
   "execution_count": 16,
   "id": "f80f41be",
   "metadata": {},
   "outputs": [],
   "source": [
    "def detectcycles(g):\n",
    "    visited = set()\n",
    "    \n",
    "    flag = False\n",
    "    for i in range(g.n):\n",
    "        if i not in visited:\n",
    "            if cycle(g, i, set(), visited):\n",
    "                flag = True\n",
    "                break\n",
    "    \n",
    "    if flag:\n",
    "        print(\"Cycles Detected in Graph...\")\n",
    "    else:\n",
    "        print(\"The Graph is Acyclic...\")\n",
    "        \n",
    "def cycle(g, v, curr, visited):\n",
    "    curr.add(v)\n",
    "    visited.add(v)\n",
    "    flag = False\n",
    "    \n",
    "    for i in range(g.n):\n",
    "        if g.adjmat[v][i] == 1:\n",
    "            if i in curr:\n",
    "                flag = True\n",
    "                break\n",
    "                \n",
    "            if i not in visited and cycle(g, i, curr, visited):\n",
    "                flag = True\n",
    "                break\n",
    "    \n",
    "    return flag"
   ]
  },
  {
   "cell_type": "code",
   "execution_count": 17,
   "id": "b33860ce",
   "metadata": {},
   "outputs": [],
   "source": [
    "g = Graph(4)\n",
    "g.addedge(0, 1)\n",
    "g.addedge(0, 2)\n",
    "g.addedge(1, 2)\n",
    "g.addedge(2, 0)\n",
    "g.addedge(2, 3)\n",
    "g.addedge(3, 3)"
   ]
  },
  {
   "cell_type": "code",
   "execution_count": 18,
   "id": "b4ca9caf",
   "metadata": {},
   "outputs": [
    {
     "name": "stdout",
     "output_type": "stream",
     "text": [
      "Cycles Detected in Graph...\n"
     ]
    }
   ],
   "source": [
    "detectcycles(g)"
   ]
  },
  {
   "cell_type": "code",
   "execution_count": 19,
   "id": "aa6afb65",
   "metadata": {},
   "outputs": [],
   "source": [
    "g = Graph(6)\n",
    "g.addedge(5, 0)\n",
    "g.addedge(5, 2)\n",
    "g.addedge(4, 0)\n",
    "g.addedge(4, 1)\n",
    "g.addedge(2, 3)\n",
    "g.addedge(3, 1)"
   ]
  },
  {
   "cell_type": "code",
   "execution_count": 20,
   "id": "ce1d0a1f",
   "metadata": {},
   "outputs": [
    {
     "name": "stdout",
     "output_type": "stream",
     "text": [
      "The Graph is Acyclic...\n"
     ]
    }
   ],
   "source": [
    "detectcycles(g)"
   ]
  },
  {
   "cell_type": "code",
   "execution_count": null,
   "id": "19f8cb67",
   "metadata": {},
   "outputs": [],
   "source": []
  }
 ],
 "metadata": {
  "kernelspec": {
   "display_name": "Python 3 (ipykernel)",
   "language": "python",
   "name": "python3"
  },
  "language_info": {
   "codemirror_mode": {
    "name": "ipython",
    "version": 3
   },
   "file_extension": ".py",
   "mimetype": "text/x-python",
   "name": "python",
   "nbconvert_exporter": "python",
   "pygments_lexer": "ipython3",
   "version": "3.10.6"
  }
 },
 "nbformat": 4,
 "nbformat_minor": 5
}
