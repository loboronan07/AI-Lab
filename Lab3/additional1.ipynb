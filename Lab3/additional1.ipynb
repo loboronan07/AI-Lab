{
 "cells": [
  {
   "cell_type": "code",
   "execution_count": 1,
   "id": "fd4bb3ff",
   "metadata": {},
   "outputs": [],
   "source": [
    "class Board:\n",
    "    def __init__(self):\n",
    "        mat = []\n",
    "        for i in range(3):\n",
    "            mat.append([0 for j in range(3)])\n",
    "        \n",
    "        self.mat = mat\n",
    "\n",
    "    def show(self):\n",
    "        for row in self.mat:\n",
    "            for i in range(3):\n",
    "                print(\"+---\", end=\"\")\n",
    "            print(\"+\")\n",
    "            for val in row:\n",
    "                if val == 0:\n",
    "                    print(\"|   \", end=\"\")\n",
    "                else:\n",
    "                    print(f\"| {val} \", end=\"\")\n",
    "            print(\"|\")\n",
    "        for i in range(3):\n",
    "            print(\"+---\", end=\"\")\n",
    "        print(\"+\")\n",
    "            \n",
    "    def add(self, val, pos):\n",
    "        r, c = pos\n",
    "        self.mat[r][c] = val\n",
    "        \n",
    "    def remove(self, pos):\n",
    "        r, c = pos\n",
    "        self.mat[r][c] = 0\n",
    "    \n",
    "    def checkval(self, val, pos):\n",
    "        r, c = pos\n",
    "        \n",
    "        for i in range(3):\n",
    "            if self.mat[r][i] == val or self.mat[i][c] == val:\n",
    "                return False\n",
    "        \n",
    "        return True\n",
    "    \n",
    "    def containsval(self, pos):\n",
    "        r, c = pos\n",
    "        \n",
    "        return self.mat[r][c] != 0\n",
    "    \n",
    "    def validpos(self, pos):\n",
    "        r, c = pos\n",
    "        \n",
    "        if r < 0 or r >= 3 or c < 0 or c >= 3:\n",
    "            return False\n",
    "        else:\n",
    "            return True"
   ]
  },
  {
   "cell_type": "code",
   "execution_count": 2,
   "id": "bfe2f93b",
   "metadata": {},
   "outputs": [],
   "source": [
    "def solveboard(board):\n",
    "    print(\"Given Board: \")\n",
    "    board.show()\n",
    "    print()\n",
    "    \n",
    "    dfs(board, (0,0))\n",
    "    \n",
    "    print(\"The Board can be solved with the solution\")\n",
    "    board.show()\n",
    "    print()\n",
    "    \n",
    "    \n",
    "def dfs(board, pos):\n",
    "    r, c = pos\n",
    "    \n",
    "    if board.containsval(pos):\n",
    "        if board.validpos((r, c+1)):\n",
    "            return dfs(board, (r, c+1))\n",
    "        elif board.validpos((r+1, 0)):\n",
    "            return dfs(board, (r+1, 0))\n",
    "        else:\n",
    "            return True\n",
    "    else:\n",
    "        for i in range(1, 4):\n",
    "            if board.checkval(i, pos):\n",
    "                board.add(i, pos)\n",
    "                \n",
    "                if board.validpos((r, c+1)):\n",
    "                    if dfs(board, (r, c+1)):\n",
    "                        return True\n",
    "                elif board.validpos((r+1, 0)):\n",
    "                    if dfs(board, (r+1, 0)):\n",
    "                        return True\n",
    "                else:\n",
    "                    return True\n",
    "                \n",
    "                board.remove(pos)\n",
    "            \n",
    "        return False"
   ]
  },
  {
   "cell_type": "code",
   "execution_count": 3,
   "id": "e5c4531e",
   "metadata": {},
   "outputs": [],
   "source": [
    "board = Board()\n",
    "board.add(2, (0,0))\n",
    "board.add(2, (2,2))"
   ]
  },
  {
   "cell_type": "code",
   "execution_count": 4,
   "id": "1563b7e5",
   "metadata": {},
   "outputs": [
    {
     "name": "stdout",
     "output_type": "stream",
     "text": [
      "Given Board: \n",
      "+---+---+---+\n",
      "| 2 |   |   |\n",
      "+---+---+---+\n",
      "|   |   |   |\n",
      "+---+---+---+\n",
      "|   |   | 2 |\n",
      "+---+---+---+\n",
      "\n",
      "The Board can be solved with the solution\n",
      "+---+---+---+\n",
      "| 2 | 1 | 3 |\n",
      "+---+---+---+\n",
      "| 3 | 2 | 1 |\n",
      "+---+---+---+\n",
      "| 1 | 3 | 2 |\n",
      "+---+---+---+\n",
      "\n"
     ]
    }
   ],
   "source": [
    "solveboard(board)"
   ]
  },
  {
   "cell_type": "code",
   "execution_count": 5,
   "id": "e2b8c2e7",
   "metadata": {},
   "outputs": [],
   "source": [
    "board = Board()\n",
    "board.add(1, (0,0))\n",
    "board.add(2, (1,2))"
   ]
  },
  {
   "cell_type": "code",
   "execution_count": 6,
   "id": "0b087baf",
   "metadata": {},
   "outputs": [
    {
     "name": "stdout",
     "output_type": "stream",
     "text": [
      "Given Board: \n",
      "+---+---+---+\n",
      "| 1 |   |   |\n",
      "+---+---+---+\n",
      "|   |   | 2 |\n",
      "+---+---+---+\n",
      "|   |   |   |\n",
      "+---+---+---+\n",
      "\n",
      "The Board can be solved with the solution\n",
      "+---+---+---+\n",
      "| 1 | 2 | 3 |\n",
      "+---+---+---+\n",
      "| 3 | 1 | 2 |\n",
      "+---+---+---+\n",
      "| 2 | 3 | 1 |\n",
      "+---+---+---+\n",
      "\n"
     ]
    }
   ],
   "source": [
    "solveboard(board)"
   ]
  }
 ],
 "metadata": {
  "kernelspec": {
   "display_name": "Python 3 (ipykernel)",
   "language": "python",
   "name": "python3"
  },
  "language_info": {
   "codemirror_mode": {
    "name": "ipython",
    "version": 3
   },
   "file_extension": ".py",
   "mimetype": "text/x-python",
   "name": "python",
   "nbconvert_exporter": "python",
   "pygments_lexer": "ipython3",
   "version": "3.9.12"
  }
 },
 "nbformat": 4,
 "nbformat_minor": 5
}
