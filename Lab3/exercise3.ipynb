{
 "cells": [
  {
   "cell_type": "code",
   "execution_count": 1,
   "id": "645a8ea1",
   "metadata": {},
   "outputs": [],
   "source": [
    "import matplotlib.pyplot as plt\n",
    "import numpy as np\n",
    "%matplotlib inline"
   ]
  },
  {
   "cell_type": "code",
   "execution_count": 2,
   "id": "13c1abc8",
   "metadata": {},
   "outputs": [],
   "source": [
    "class Maze:\n",
    "    def __init__(self, mat, h, w, start):\n",
    "        self.matrix = mat\n",
    "        self.height = h\n",
    "        self.width = w\n",
    "        self.start = start\n",
    "    \n",
    "    def show(self):\n",
    "        image = []\n",
    "        for row in self.matrix:\n",
    "            new_row = []\n",
    "            for val in row:\n",
    "                if val == 0:\n",
    "                    new_row.append([0., 0., 0.])\n",
    "                elif val == 1:\n",
    "                    new_row.append([1., 1., 1.])\n",
    "                else:\n",
    "                    new_row.append([0.68, 0.97, 0.1])\n",
    "            image.append(new_row)\n",
    "        plt.imshow(np.array(image), cmap='gray')\n",
    "        plt.axis('off')\n",
    "             \n",
    "    def ispath(self, pos):\n",
    "        r, c = pos\n",
    "        if r < 0 or r >= self.height or c < 0 or c >= self.width:\n",
    "            return False\n",
    "        \n",
    "        return self.matrix[r][c] != 0\n",
    "    \n",
    "    def reachedout(self, pos):\n",
    "        if pos == self.start:\n",
    "            return False\n",
    "        \n",
    "        r, c = pos\n",
    "        \n",
    "        if r == 0 or r == self.height-1 or c == 0 or c == self.width-1:\n",
    "            return True\n",
    "        else:\n",
    "            return False\n",
    "    \n",
    "    def tracepath(self, traversal):\n",
    "        for r, c in traversal:\n",
    "            self.matrix[r][c] = 0.5\n",
    "            \n",
    "    def getstart(self):\n",
    "        return self.start"
   ]
  },
  {
   "cell_type": "code",
   "execution_count": 3,
   "id": "46eab34a",
   "metadata": {},
   "outputs": [],
   "source": [
    "def mazesolve(maze):\n",
    "    visited = []\n",
    "    for i in range(maze.height):\n",
    "        visited.append([0 for j in range(maze.width)])\n",
    "        \n",
    "    traversal = []\n",
    "    \n",
    "    dfs(maze, maze.getstart(), visited, traversal)\n",
    "    \n",
    "    maze.tracepath(traversal)\n",
    "    \n",
    "\n",
    "\n",
    "    \n",
    "def dfs(maze, pos, visited, traversal):\n",
    "    r, c = pos\n",
    "    visited[r][c] = 1\n",
    "    traversal.append(pos)\n",
    "    \n",
    "    if maze.reachedout(pos):\n",
    "        return True\n",
    "    \n",
    "    if maze.ispath((r-1, c)) and visited[r-1][c] == 0:\n",
    "        if dfs(maze, (r-1, c), visited, traversal):\n",
    "            return True\n",
    "    \n",
    "    if maze.ispath((r, c+1)) and visited[r][c+1] == 0:\n",
    "        if dfs(maze, (r, c+1), visited, traversal):\n",
    "            return True\n",
    "    \n",
    "    if maze.ispath((r+1, c)) and visited[r+1][c] == 0:\n",
    "        if dfs(maze, (r+1, c), visited, traversal):\n",
    "            return True\n",
    "    \n",
    "    if maze.ispath((r, c-1)) and visited[r][c-1] == 0:\n",
    "        if dfs(maze, (r, c-1), visited, traversal):\n",
    "            return True\n",
    "    \n",
    "    traversal.pop()\n",
    "    return False"
   ]
  },
  {
   "cell_type": "code",
   "execution_count": 4,
   "id": "c146d979",
   "metadata": {},
   "outputs": [],
   "source": [
    "mat = [\n",
    "    [0,0,0,0,0,0,0,0,0,0,0,0,0,0,0,0,0,0,0,0,0,0,0,0,0,0,0,0,0,0,0,0,0,0,0,0,0,0,0,0,0,0,0,0,0],\n",
    "    [0,1,0,1,1,1,1,1,1,1,1,1,1,1,1,1,0,1,1,1,1,1,1,1,1,1,1,1,1,1,1,1,1,1,1,1,1,1,0,1,1,1,1,1,0],\n",
    "    [0,1,0,0,0,1,0,0,0,0,0,0,0,0,0,1,0,0,0,0,0,1,0,0,0,1,0,0,0,0,0,0,0,0,0,0,0,1,0,1,0,0,0,1,0],\n",
    "    [0,1,1,1,1,1,0,1,1,1,1,1,0,1,1,1,0,1,1,1,0,1,1,1,0,1,0,1,0,1,1,1,1,1,1,1,0,1,1,1,0,1,0,1,0],\n",
    "    [0,0,0,0,0,0,0,1,0,0,0,1,0,1,0,0,0,1,0,1,0,1,0,0,0,1,0,1,0,1,0,0,0,0,0,1,0,0,0,0,0,1,0,1,0],\n",
    "    [0,1,1,1,0,1,1,1,0,1,0,1,0,1,1,1,1,1,0,1,0,1,0,1,1,1,0,1,1,1,0,1,1,1,1,1,1,1,1,1,1,1,0,1,0],\n",
    "    [0,1,0,1,0,0,0,1,0,1,0,1,0,0,0,1,0,0,0,1,0,0,0,1,0,0,0,1,0,0,0,1,0,0,0,0,0,0,0,0,0,1,0,1,0],\n",
    "    [0,1,0,1,1,1,0,1,0,1,0,1,1,1,1,1,0,1,1,1,0,1,1,1,0,1,0,1,1,1,0,1,1,1,0,1,1,1,0,1,1,1,0,1,0],\n",
    "    [0,1,0,0,0,1,0,1,0,1,0,0,0,0,0,1,0,1,0,0,0,1,0,0,0,1,0,0,0,1,0,0,0,1,0,1,0,0,0,1,0,0,0,1,0],\n",
    "    [0,1,0,1,0,1,1,1,0,1,1,1,1,1,0,1,0,1,1,1,1,1,0,1,1,1,1,1,0,1,0,1,1,1,0,1,1,1,1,1,0,1,0,1,0],\n",
    "    [0,1,0,1,0,0,0,0,0,1,0,1,0,0,0,1,0,0,0,0,0,0,0,1,0,0,0,0,0,1,0,1,0,0,0,0,0,0,0,1,0,1,0,1,0],\n",
    "    [0,1,0,1,1,1,0,1,1,1,0,1,1,1,0,1,1,1,1,1,0,1,1,1,0,1,1,1,1,1,0,1,1,1,1,1,1,1,0,1,1,1,0,1,0],\n",
    "    [0,1,0,1,0,0,0,1,0,0,0,0,0,1,0,0,0,0,0,1,0,0,0,1,0,1,0,0,0,0,0,0,0,0,0,0,0,1,0,0,0,1,0,1,0],\n",
    "    [0,1,0,1,0,1,1,1,0,1,1,1,1,1,1,1,0,1,1,1,0,1,1,1,0,1,0,1,1,1,0,1,1,1,1,1,0,1,1,1,0,1,0,1,0],\n",
    "    [0,1,0,1,0,1,0,0,0,1,0,0,0,0,0,0,0,1,0,0,0,1,0,0,0,1,0,1,0,1,0,1,0,0,0,1,0,0,0,1,0,0,0,1,0],\n",
    "    [0,1,0,1,1,1,0,1,0,1,1,1,1,1,1,1,1,1,0,1,1,1,0,1,1,1,0,1,0,1,1,1,0,1,1,1,1,1,0,1,1,1,1,1,0],\n",
    "    [0,1,0,1,0,0,0,1,0,0,0,0,0,0,0,0,0,0,0,1,0,1,0,1,0,0,0,1,0,0,0,0,0,0,0,0,0,1,0,0,0,0,0,0,0],\n",
    "    [1,1,0,1,1,1,1,1,1,1,1,1,0,1,1,1,1,1,1,1,0,1,0,1,0,1,1,1,1,1,1,1,1,1,1,1,0,1,0,1,1,1,0,1,0],\n",
    "    [0,1,0,0,0,0,0,0,0,0,0,1,0,0,0,0,0,1,0,1,0,0,0,1,0,0,0,0,0,0,0,1,0,0,0,1,0,1,0,1,0,1,0,1,0],\n",
    "    [0,1,1,1,0,1,1,1,1,1,0,1,1,1,1,1,1,1,0,1,0,1,1,1,0,1,1,1,1,1,0,1,1,1,0,1,0,1,1,1,0,1,1,1,1],\n",
    "    [0,0,0,1,0,1,0,1,0,0,0,0,0,0,0,0,0,0,0,1,0,1,0,0,0,1,0,0,0,1,0,0,0,0,0,1,0,0,0,0,0,0,0,1,0],\n",
    "    [0,1,1,1,0,1,0,1,0,1,1,1,1,1,1,1,1,1,0,1,0,1,0,1,1,1,1,1,0,1,1,1,1,1,1,1,0,1,1,1,1,1,0,1,0],\n",
    "    [0,1,0,0,0,1,0,0,0,1,0,0,0,1,0,1,0,0,0,1,0,1,0,0,0,0,0,1,0,0,0,0,0,0,0,0,0,0,0,0,0,1,0,1,0],\n",
    "    [0,1,0,1,1,1,1,1,1,1,0,1,1,1,0,1,0,1,1,1,0,1,1,1,1,1,1,1,0,1,1,1,1,1,1,1,0,1,1,1,1,1,0,1,0],\n",
    "    [0,1,0,1,0,0,0,0,0,0,0,1,0,0,0,0,0,1,0,0,0,0,0,0,0,0,0,0,0,0,0,1,0,0,0,1,0,1,0,0,0,1,0,1,0],\n",
    "    [0,1,0,1,1,1,1,1,0,1,1,1,0,1,1,1,0,1,1,1,0,1,1,1,1,1,1,1,1,1,1,1,0,1,0,1,1,1,0,1,0,1,0,1,0],\n",
    "    [0,1,0,1,0,0,0,0,0,1,0,0,0,1,0,1,0,0,0,1,0,1,0,0,0,0,0,0,0,0,0,0,0,1,0,0,0,0,0,1,0,1,0,1,0],\n",
    "    [0,1,0,1,0,1,1,1,0,1,1,1,1,1,0,1,1,1,0,1,1,1,0,1,1,1,0,1,1,1,1,1,0,1,1,1,1,1,1,1,1,1,0,1,0],\n",
    "    [0,1,0,0,0,1,0,1,0,0,0,0,0,0,0,1,0,1,0,0,0,0,0,1,0,0,0,1,0,1,0,0,0,1,0,0,0,0,0,1,0,0,0,1,0],\n",
    "    [0,1,0,1,1,1,0,1,1,1,1,1,0,1,1,1,0,1,1,1,1,1,0,1,1,1,1,1,0,1,0,1,1,1,0,1,1,1,0,1,1,1,0,1,0],\n",
    "    [0,1,0,1,0,0,0,0,0,0,0,1,0,1,0,0,0,0,0,0,0,0,0,1,0,0,0,0,0,1,0,1,0,0,0,1,0,1,0,0,0,1,0,1,0],\n",
    "    [0,1,0,1,0,1,1,1,1,1,1,1,0,1,1,1,1,1,1,1,1,1,1,1,0,1,0,1,0,1,1,1,0,1,1,1,0,1,0,1,1,1,0,1,0],\n",
    "    [0,1,0,1,0,1,0,0,0,0,0,0,0,0,0,1,0,0,0,0,0,0,0,0,0,1,0,1,0,0,0,0,0,1,0,0,0,1,0,0,0,0,0,1,0],\n",
    "    [0,1,1,1,0,1,1,1,1,1,1,1,1,1,1,1,1,1,1,1,1,1,1,1,1,1,0,1,1,1,1,1,1,1,1,1,0,1,1,1,1,1,1,1,0],\n",
    "    [0,0,0,0,0,0,0,0,0,0,0,0,0,0,0,0,0,0,0,0,0,0,0,0,0,0,0,0,0,0,0,0,0,0,0,0,0,0,0,0,0,0,0,0,0]\n",
    "]"
   ]
  },
  {
   "cell_type": "code",
   "execution_count": 5,
   "id": "e133f830",
   "metadata": {},
   "outputs": [],
   "source": [
    "maze = Maze(mat, 35, 45, (17,0))"
   ]
  },
  {
   "cell_type": "code",
   "execution_count": 6,
   "id": "d1188501",
   "metadata": {},
   "outputs": [
    {
     "name": "stdout",
     "output_type": "stream",
     "text": [
      "Initial Maze:\n"
     ]
    },
    {
     "data": {
      "image/png": "[encoded data removed]",
      "text/plain": [
       "<Figure size 432x288 with 1 Axes>"
      ]
     },
     "metadata": {
      "needs_background": "light"
     },
     "output_type": "display_data"
    }
   ],
   "source": [
    "print(\"Initial Maze:\")\n",
    "maze.show()"
   ]
  },
  {
   "cell_type": "code",
   "execution_count": 7,
   "id": "959a4823",
   "metadata": {},
   "outputs": [],
   "source": [
    "mazesolve(maze)"
   ]
  },
  {
   "cell_type": "code",
   "execution_count": 8,
   "id": "5d90f37f",
   "metadata": {},
   "outputs": [
    {
     "name": "stdout",
     "output_type": "stream",
     "text": [
      "Solved Maze:\n"
     ]
    },
    {
     "data": {
      "image/png": "[encoded data removed]",
      "text/plain": [
       "<Figure size 432x288 with 1 Axes>"
      ]
     },
     "metadata": {
      "needs_background": "light"
     },
     "output_type": "display_data"
    }
   ],
   "source": [
    "print(\"Solved Maze:\")\n",
    "maze.show()"
   ]
  },
  {
   "cell_type": "code",
   "execution_count": null,
   "id": "68c916cf",
   "metadata": {},
   "outputs": [],
   "source": []
  }
 ],
 "metadata": {
  "kernelspec": {
   "display_name": "Python 3 (ipykernel)",
   "language": "python",
   "name": "python3"
  },
  "language_info": {
   "codemirror_mode": {
    "name": "ipython",
    "version": 3
   },
   "file_extension": ".py",
   "mimetype": "text/x-python",
   "name": "python",
   "nbconvert_exporter": "python",
   "pygments_lexer": "ipython3",
   "version": "3.9.12"
  }
 },
 "nbformat": 4,
 "nbformat_minor": 5
}
