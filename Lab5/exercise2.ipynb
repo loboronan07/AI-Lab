{
 "cells": [
  {
   "cell_type": "code",
   "execution_count": 1,
   "id": "748afd66",
   "metadata": {},
   "outputs": [],
   "source": [
    "import numpy as np\n",
    "import matplotlib.pyplot as plt\n",
    "import networkx as nx"
   ]
  },
  {
   "cell_type": "code",
   "execution_count": 21,
   "id": "8e66d952",
   "metadata": {},
   "outputs": [],
   "source": [
    "class Graph:\n",
    "    def __init__(self, n):\n",
    "        self.n = n\n",
    "        self.adjlist = dict()\n",
    "        self.g = nx.DiGraph()\n",
    "        \n",
    "    def addedge(self, u, v, w):\n",
    "        if u in self.adjlist:\n",
    "            self.adjlist[u][v] = w\n",
    "        else:\n",
    "            self.adjlist[u] = {v:w}\n",
    "        self.g.add_edge(u, v, weight=w)\n",
    "        \n",
    "    def visualize(self):            \n",
    "        pos = nx.kamada_kawai_layout(self.g)\n",
    "        nx.draw(self.g, pos=pos, with_labels=True, node_size=500, alpha=0.8)\n",
    "        edge_labels = nx.get_edge_attributes(self.g, \"weight\")\n",
    "        nx.draw_networkx_edge_labels(self.g, pos, edge_labels=edge_labels)\n",
    "        plt.show()\n",
    "        \n",
    "    def visualizepath(self, path):\n",
    "        edges = []\n",
    "        \n",
    "        for i in range(len(path)-1):\n",
    "            edges.append((path[i], path[i+1]))\n",
    "        \n",
    "        pos = nx.kamada_kawai_layout(self.g)\n",
    "        nx.draw(self.g, pos=pos, with_labels=True, node_size=750, alpha=0.8)\n",
    "        nx.draw_networkx_edges(self.g, pos, edgelist=edges, width=3, edge_color='g', alpha=1)\n",
    "        plt.show()"
   ]
  },
  {
   "cell_type": "code",
   "execution_count": 22,
   "id": "a33e5db5",
   "metadata": {},
   "outputs": [],
   "source": [
    "class PQueue:\n",
    "    def __init__(self):\n",
    "        self.queue = []\n",
    "        \n",
    "    def isEmpty(self):\n",
    "        return len(self.queue) == 0\n",
    "    \n",
    "    def enqueue(self, ele, pri):\n",
    "        self.queue.append((ele, pri))\n",
    "    \n",
    "    def dequeue(self):\n",
    "        if self.isEmpty():\n",
    "            return None\n",
    "        \n",
    "        minidx = None\n",
    "        minpri = None\n",
    "        for i in range(len(self.queue)):\n",
    "            ele, pri = self.queue[i]\n",
    "            \n",
    "            if minpri == None or pri < minpri:\n",
    "                minidx = i\n",
    "                minpri = pri\n",
    "        \n",
    "        ele, pri = self.queue.pop(minidx)\n",
    "        \n",
    "        return ele, pri\n",
    "    \n",
    "    def contains(self, ele):\n",
    "        for e, p in self.queue:\n",
    "            if ele == e:\n",
    "                return p\n",
    "        \n",
    "        return None\n",
    "    \n",
    "    def replace(self, ele, pri):\n",
    "        for i in range(len(self.queue)):\n",
    "            e, p = self.queue[i]\n",
    "            if e == ele:\n",
    "                self.queue.pop(i)\n",
    "                self.enqueue(ele, pri)\n",
    "                return "
   ]
  },
  {
   "cell_type": "code",
   "execution_count": 23,
   "id": "fe01f2c6",
   "metadata": {},
   "outputs": [],
   "source": [
    "def uniformcostsearch(g, start, end):\n",
    "    q = PQueue()\n",
    "    q.enqueue(start, 0)\n",
    "    \n",
    "    visited = set()\n",
    "    \n",
    "    while not q.isEmpty():\n",
    "        curr, cost = q.dequeue()\n",
    "        \n",
    "        if curr == end:\n",
    "            return cost\n",
    "        \n",
    "        visited.add(curr)\n",
    "        \n",
    "        for i in g.adjlist[curr]:\n",
    "            new_cost = cost + g.adjlist[curr][i]\n",
    "                \n",
    "            if i not in visited and q.contains(i) == None:\n",
    "                q.enqueue(i, new_cost)\n",
    "            else:\n",
    "                prev_cost = q.contains(i)\n",
    "                    \n",
    "                if prev_cost != None and prev_cost > new_cost:\n",
    "                    q.replace(i, new_cost)\n",
    "    \n",
    "    return None"
   ]
  },
  {
   "cell_type": "code",
   "execution_count": 24,
   "id": "b5f7a44f",
   "metadata": {},
   "outputs": [
    {
     "data": {
      "image/png": "[encoded data removed]",
      "text/plain": [
       "<Figure size 432x288 with 1 Axes>"
      ]
     },
     "metadata": {},
     "output_type": "display_data"
    }
   ],
   "source": [
    "edges = [('a','b',6), ('a','c',3), ('b','c',1), ('b','d',2), ('c','b',4), ('c','d',8), ('c','e',2), ('d','e',9), ('e','d',7)]\n",
    "\n",
    "g = Graph(5)\n",
    "for u, v, w in edges:\n",
    "    g.addedge(u, v, w)\n",
    "    \n",
    "g.visualize()"
   ]
  },
  {
   "cell_type": "code",
   "execution_count": 19,
   "id": "717a7346",
   "metadata": {},
   "outputs": [
    {
     "name": "stdout",
     "output_type": "stream",
     "text": [
      "Minimum cost from a to d is 8\n"
     ]
    }
   ],
   "source": [
    "start = 'a'\n",
    "end = 'd'\n",
    "\n",
    "mincost = uniformcostsearch(g, start, end)\n",
    "\n",
    "if mincost != None:\n",
    "    print(f\"Minimum cost from {start} to {end} is {mincost}\")\n",
    "else:\n",
    "    print(f\"No path available from {start} to {end}...\")"
   ]
  },
  {
   "cell_type": "code",
   "execution_count": null,
   "id": "4b2dc0a0",
   "metadata": {},
   "outputs": [],
   "source": []
  }
 ],
 "metadata": {
  "kernelspec": {
   "display_name": "Python 3 (ipykernel)",
   "language": "python",
   "name": "python3"
  },
  "language_info": {
   "codemirror_mode": {
    "name": "ipython",
    "version": 3
   },
   "file_extension": ".py",
   "mimetype": "text/x-python",
   "name": "python",
   "nbconvert_exporter": "python",
   "pygments_lexer": "ipython3",
   "version": "3.10.6"
  }
 },
 "nbformat": 4,
 "nbformat_minor": 5
}
