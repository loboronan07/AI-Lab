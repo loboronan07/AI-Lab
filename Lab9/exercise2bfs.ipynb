{
 "cells": [
  {
   "cell_type": "code",
   "execution_count": 1,
   "id": "d4902883",
   "metadata": {},
   "outputs": [],
   "source": [
    "class Jugs:\n",
    "    def __init__(self, mj1, mj2, j1=0, j2=0):\n",
    "        self.mj1 = mj1\n",
    "        self.mj2 = mj2\n",
    "        self.j1 = j1\n",
    "        self.j2 = j2\n",
    "    \n",
    "    def getnext(self):\n",
    "        next_states = []\n",
    "        \n",
    "        next_states.append(Jugs(self.mj1, self.mj2, self.mj1, self.j2))\n",
    "        next_states.append(Jugs(self.mj1, self.mj2, self.j1, self.mj2))\n",
    "        next_states.append(Jugs(self.mj1, self.mj2, 0, self.j2))\n",
    "        next_states.append(Jugs(self.mj1, self.mj2, self.j1, 0))\n",
    "        \n",
    "        s = self.j1 + self.j2\n",
    "        \n",
    "        if s <= self.mj1:\n",
    "            next_states.append(Jugs(self.mj1, self.mj2, s, 0))\n",
    "        else:\n",
    "            next_states.append(Jugs(self.mj1, self.mj2, self.mj1, s-self.mj1))\n",
    "        \n",
    "        if s <= self.mj2:\n",
    "            next_states.append(Jugs(self.mj1, self.mj2, 0, s))\n",
    "        else:\n",
    "            next_states.append(Jugs(self.mj1, self.mj2, s-self.mj2, self.mj2))\n",
    "        \n",
    "        return next_states\n",
    "        \n",
    "    def __eq__(self, A):\n",
    "        return self.j1 == A.j1 and self.j2 == A.j2\n",
    "    \n",
    "    def goaltest(self, val):\n",
    "        return self.j1 == val or self.j2 == val or self.j1+self.j2 == val"
   ]
  },
  {
   "cell_type": "code",
   "execution_count": 2,
   "id": "b487c02b",
   "metadata": {},
   "outputs": [],
   "source": [
    "def bfs(init, goal):\n",
    "    q = []\n",
    "    visited = []\n",
    "    \n",
    "    q.append(init)\n",
    "    \n",
    "    while q:\n",
    "        curr = q.pop(0)\n",
    "        \n",
    "        visited.append(curr)\n",
    "        \n",
    "        if curr.goaltest(goal):\n",
    "            return True\n",
    "        \n",
    "        next_states = curr.getnext()\n",
    "        \n",
    "        for state in next_states:\n",
    "            if state not in visited:\n",
    "                q.append(state)\n",
    "    \n",
    "    return False"
   ]
  },
  {
   "cell_type": "code",
   "execution_count": 3,
   "id": "654bb771",
   "metadata": {},
   "outputs": [
    {
     "name": "stdout",
     "output_type": "stream",
     "text": [
      "Possible\n"
     ]
    }
   ],
   "source": [
    "j = Jugs(3, 5)\n",
    "\n",
    "if bfs(j, 4):\n",
    "    print(\"Possible\")\n",
    "else:\n",
    "    print(\"Not Possible\")"
   ]
  },
  {
   "cell_type": "code",
   "execution_count": 4,
   "id": "7361ab8b",
   "metadata": {},
   "outputs": [
    {
     "name": "stdout",
     "output_type": "stream",
     "text": [
      "Not Possible\n"
     ]
    }
   ],
   "source": [
    "j = Jugs(2, 6)\n",
    "\n",
    "if bfs(j, 5):\n",
    "    print(\"Possible\")\n",
    "else:\n",
    "    print(\"Not Possible\")"
   ]
  },
  {
   "cell_type": "code",
   "execution_count": 5,
   "id": "79535cf7",
   "metadata": {},
   "outputs": [
    {
     "name": "stdout",
     "output_type": "stream",
     "text": [
      "Possible\n"
     ]
    }
   ],
   "source": [
    "j = Jugs(1, 2)\n",
    "\n",
    "if bfs(j, 3):\n",
    "    print(\"Possible\")\n",
    "else:\n",
    "    print(\"Not Possible\")"
   ]
  },
  {
   "cell_type": "code",
   "execution_count": 6,
   "id": "83bf2a01",
   "metadata": {},
   "outputs": [
    {
     "name": "stdout",
     "output_type": "stream",
     "text": [
      "Possible\n"
     ]
    }
   ],
   "source": [
    "j = Jugs(4, 3)\n",
    "\n",
    "if bfs(j, 2):\n",
    "    print(\"Possible\")\n",
    "else:\n",
    "    print(\"Not Possible\")"
   ]
  },
  {
   "cell_type": "code",
   "execution_count": null,
   "id": "0f7bd927",
   "metadata": {},
   "outputs": [],
   "source": []
  }
 ],
 "metadata": {
  "kernelspec": {
   "display_name": "Python 3 (ipykernel)",
   "language": "python",
   "name": "python3"
  },
  "language_info": {
   "codemirror_mode": {
    "name": "ipython",
    "version": 3
   },
   "file_extension": ".py",
   "mimetype": "text/x-python",
   "name": "python",
   "nbconvert_exporter": "python",
   "pygments_lexer": "ipython3",
   "version": "3.10.6"
  }
 },
 "nbformat": 4,
 "nbformat_minor": 5
}
