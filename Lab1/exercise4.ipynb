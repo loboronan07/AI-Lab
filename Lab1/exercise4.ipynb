{
 "cells": [
  {
   "cell_type": "code",
   "execution_count": 17,
   "id": "f0e40340",
   "metadata": {},
   "outputs": [],
   "source": [
    "from math import sqrt"
   ]
  },
  {
   "cell_type": "code",
   "execution_count": 7,
   "id": "d3b868f6",
   "metadata": {},
   "outputs": [],
   "source": [
    "class Node:\n",
    "    def __init__(self, val):\n",
    "        self.val = val\n",
    "        self.left = None\n",
    "        self.right = None"
   ]
  },
  {
   "cell_type": "code",
   "execution_count": 12,
   "id": "9c583e48",
   "metadata": {},
   "outputs": [],
   "source": [
    "def preorder(root, l):\n",
    "    if(root != None):\n",
    "        print(f'{root.val} ' , end='')\n",
    "        l.append(root.val)\n",
    "        preorder(root.left, l)\n",
    "        preorder(root.right, l)\n",
    "\n",
    "def inorder(root, l):\n",
    "    if(root != None):\n",
    "        inorder(root.left, l)\n",
    "        print(f'{root.val} ' , end='')\n",
    "        l.append(root.val)\n",
    "        inorder(root.right, l)\n",
    "        \n",
    "def postorder(root, l):\n",
    "    if(root != None):\n",
    "        postorder(root.left, l)\n",
    "        postorder(root.right, l)\n",
    "        print(f'{root.val} ' , end='')\n",
    "        l.append(root.val)"
   ]
  },
  {
   "cell_type": "code",
   "execution_count": 9,
   "id": "1bac8224",
   "metadata": {},
   "outputs": [],
   "source": [
    "def create(val):\n",
    "    if(val == -1):\n",
    "        return None\n",
    "    \n",
    "    root = Node(val)\n",
    "    \n",
    "    left = int(input(f'Enter the left child of {val}(Hit -1 for null): '))\n",
    "    root.left = create(left)\n",
    "    \n",
    "    right = int(input(f'Enter the right child of {val}(Hit -1 for null): '))\n",
    "    root.right = create(right)\n",
    "    \n",
    "    return root"
   ]
  },
  {
   "cell_type": "code",
   "execution_count": 10,
   "id": "10ec5867",
   "metadata": {},
   "outputs": [
    {
     "name": "stdout",
     "output_type": "stream",
     "text": [
      "Enter the value of the root node(Hit -1 for null): 25\n",
      "Enter the left child of 25(Hit -1 for null): 15\n",
      "Enter the left child of 15(Hit -1 for null): 10\n",
      "Enter the left child of 10(Hit -1 for null): -1\n",
      "Enter the right child of 10(Hit -1 for null): -1\n",
      "Enter the right child of 15(Hit -1 for null): -1\n",
      "Enter the right child of 25(Hit -1 for null): 50\n",
      "Enter the left child of 50(Hit -1 for null): -1\n",
      "Enter the right child of 50(Hit -1 for null): 70\n",
      "Enter the left child of 70(Hit -1 for null): -1\n",
      "Enter the right child of 70(Hit -1 for null): -1\n"
     ]
    }
   ],
   "source": [
    "val = int(input(f'Enter the value of the root node(Hit -1 for null): '))\n",
    "root = create(val)"
   ]
  },
  {
   "cell_type": "code",
   "execution_count": 13,
   "id": "934c011d",
   "metadata": {},
   "outputs": [
    {
     "name": "stdout",
     "output_type": "stream",
     "text": [
      "Preorder Traversal: 25 15 10 50 70 \n",
      "Inorder Traversal: 10 15 25 50 70 \n",
      "Postorder Traversal: 10 15 70 50 25 \n"
     ]
    }
   ],
   "source": [
    "pre = []\n",
    "ino = []\n",
    "post = []\n",
    "\n",
    "print('Preorder Traversal: ', end='')\n",
    "preorder(root, pre)\n",
    "print('\\nInorder Traversal: ', end='')\n",
    "inorder(root, ino)\n",
    "print('\\nPostorder Traversal: ', end='')\n",
    "postorder(root, post)\n",
    "print()"
   ]
  },
  {
   "cell_type": "code",
   "execution_count": 15,
   "id": "00f0f3b9",
   "metadata": {},
   "outputs": [],
   "source": [
    "def eucdist(x, y):\n",
    "    dist = 0\n",
    "    for i in range(len(x)):\n",
    "        dist = dist + (x[i]-y[i])**2\n",
    "    \n",
    "    return sqrt(dist)"
   ]
  },
  {
   "cell_type": "code",
   "execution_count": 18,
   "id": "bc34e8bc",
   "metadata": {},
   "outputs": [],
   "source": [
    "dist = eucdist(pre, post)"
   ]
  },
  {
   "cell_type": "code",
   "execution_count": 20,
   "id": "24858d20",
   "metadata": {},
   "outputs": [
    {
     "name": "stdout",
     "output_type": "stream",
     "text": [
      "76.48529270389177\n"
     ]
    }
   ],
   "source": [
    "print(dist)"
   ]
  },
  {
   "cell_type": "code",
   "execution_count": null,
   "id": "44daae5a",
   "metadata": {},
   "outputs": [],
   "source": []
  }
 ],
 "metadata": {
  "kernelspec": {
   "display_name": "Python 3 (ipykernel)",
   "language": "python",
   "name": "python3"
  },
  "language_info": {
   "codemirror_mode": {
    "name": "ipython",
    "version": 3
   },
   "file_extension": ".py",
   "mimetype": "text/x-python",
   "name": "python",
   "nbconvert_exporter": "python",
   "pygments_lexer": "ipython3",
   "version": "3.10.6"
  }
 },
 "nbformat": 4,
 "nbformat_minor": 5
}
