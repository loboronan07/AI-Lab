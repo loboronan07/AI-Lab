{
 "cells": [
  {
   "cell_type": "code",
   "execution_count": 1,
   "id": "66eafedf",
   "metadata": {},
   "outputs": [],
   "source": [
    "from math import sqrt"
   ]
  },
  {
   "cell_type": "code",
   "execution_count": 2,
   "id": "39e9328d",
   "metadata": {},
   "outputs": [],
   "source": [
    "def sort(arr):\n",
    "    n = len(arr)\n",
    "    \n",
    "    for i in range(n-1):\n",
    "        for j in range(n-i-1):\n",
    "            if arr[j] > arr[j+1]:\n",
    "                arr[j], arr[j+1] = arr[j+1], arr[j]\n",
    "\n",
    "def eucdist(x, y, n):\n",
    "    dist = 0\n",
    "    for i in range(n):\n",
    "        dist = dist + (x[i]-y[i])**2\n",
    "    \n",
    "    return sqrt(dist)\n",
    "    \n",
    "def compute_dist(X, Y, n):\n",
    "    points = len(X)\n",
    "    dist = []\n",
    "    \n",
    "    for i in range(points):\n",
    "        dist.append(eucdist(X[i], Y[i], n))\n",
    "        \n",
    "    return dist"
   ]
  },
  {
   "cell_type": "code",
   "execution_count": 3,
   "id": "8a35f697",
   "metadata": {},
   "outputs": [
    {
     "name": "stdout",
     "output_type": "stream",
     "text": [
      "Enter the dimensionality of points: 3\n",
      "Enter the number of points: 2\n",
      "*** Enter the points as - x0 x1 ... xn ***\n",
      "--- List X ---\n",
      "Enter the value for x1: \n",
      "1 2 3\n",
      "Enter the value for x2: \n",
      "4 5 6\n",
      "--- List Y ---\n",
      "Enter the value for y1: \n",
      "2 3 4\n",
      "Enter the value for y2: \n",
      "4 5 6\n"
     ]
    }
   ],
   "source": [
    "n = int(input('Enter the dimensionality of points: '))\n",
    "points = int(input('Enter the number of points: '))\n",
    "\n",
    "print('*** Enter the points as - x0 x1 ... xn ***')\n",
    "\n",
    "X = []\n",
    "Y = []\n",
    "\n",
    "print('--- List X ---')\n",
    "for _ in range(points):\n",
    "    print(f'Enter the value for x{_+1}: ')\n",
    "    x = list(map(float, input().split()))\n",
    "    X.append(x)\n",
    "    \n",
    "print('--- List Y ---')\n",
    "for _ in range(points):\n",
    "    print(f'Enter the value for y{_+1}: ')\n",
    "    y = list(map(float, input().split()))\n",
    "    Y.append(y)"
   ]
  },
  {
   "cell_type": "code",
   "execution_count": 4,
   "id": "ca1dcef6",
   "metadata": {},
   "outputs": [],
   "source": [
    "dist = compute_dist(X, Y, n)"
   ]
  },
  {
   "cell_type": "code",
   "execution_count": 5,
   "id": "80b52ea5",
   "metadata": {},
   "outputs": [
    {
     "name": "stdout",
     "output_type": "stream",
     "text": [
      "Distances Computed: \n",
      "[1.7320508075688772, 0.0]\n",
      "Distances Sorted: \n",
      "[0.0, 1.7320508075688772]\n"
     ]
    }
   ],
   "source": [
    "print('Distances Computed: ')\n",
    "print(dist)\n",
    "\n",
    "sort(dist)\n",
    "\n",
    "print('Distances Sorted: ')\n",
    "print(dist)"
   ]
  }
 ],
 "metadata": {
  "kernelspec": {
   "display_name": "Python 3 (ipykernel)",
   "language": "python",
   "name": "python3"
  },
  "language_info": {
   "codemirror_mode": {
    "name": "ipython",
    "version": 3
   },
   "file_extension": ".py",
   "mimetype": "text/x-python",
   "name": "python",
   "nbconvert_exporter": "python",
   "pygments_lexer": "ipython3",
   "version": "3.10.6"
  }
 },
 "nbformat": 4,
 "nbformat_minor": 5
}
