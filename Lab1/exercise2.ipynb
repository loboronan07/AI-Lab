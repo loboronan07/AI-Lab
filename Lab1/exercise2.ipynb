{
 "cells": [
  {
   "cell_type": "code",
   "execution_count": 1,
   "id": "d6e64e84",
   "metadata": {},
   "outputs": [],
   "source": [
    "class Graph:\n",
    "    def __init__(self, n):\n",
    "        adjlist = dict()\n",
    "\n",
    "        for i in range(n):\n",
    "            adjlist[f'{i+1}'] = []\n",
    "\n",
    "        adjmat = []\n",
    "        for _ in range(n):\n",
    "            l = [0 for __ in range(n)]\n",
    "            adjmat.append(l)\n",
    "        \n",
    "        self.adjlist = adjlist\n",
    "        self.adjmat = adjmat\n",
    "    \n",
    "    def add_edge(self, u, v, weight):\n",
    "        self.adjlist[f'{u}'].append([v, weight])\n",
    "        self.adjmat[u-1][v-1] = weight\n",
    "    \n",
    "    def show(self):\n",
    "        print('Adjacency List: ')\n",
    "        print(self.adjlist)\n",
    "        print('Adjacency Matrix: ')\n",
    "        print(self.adjmat)"
   ]
  },
  {
   "cell_type": "code",
   "execution_count": 2,
   "id": "aee51bbc",
   "metadata": {
    "scrolled": true
   },
   "outputs": [
    {
     "name": "stdout",
     "output_type": "stream",
     "text": [
      "Enter the number of vertices: 4\n",
      "Enter the number of edges: 5\n"
     ]
    }
   ],
   "source": [
    "n = int(input('Enter the number of vertices: '))\n",
    "edges = int(input('Enter the number of edges: '))\n",
    "\n",
    "g = Graph(n)"
   ]
  },
  {
   "cell_type": "code",
   "execution_count": 3,
   "id": "ad1340b6",
   "metadata": {},
   "outputs": [
    {
     "name": "stdout",
     "output_type": "stream",
     "text": [
      "Enter the edges of the graph in the format (u, v, weight): \n",
      "1 2 1\n",
      "1 3 1\n",
      "2 3 3\n",
      "3 4 4\n",
      "4 1 5\n",
      "Adjacency List: \n",
      "{'1': [[2, 1], [3, 1]], '2': [[3, 3]], '3': [[4, 4]], '4': [[1, 5]]}\n",
      "Adjacency Matrix: \n",
      "[[0, 1, 1, 0], [0, 0, 3, 0], [0, 0, 0, 4], [5, 0, 0, 0]]\n"
     ]
    }
   ],
   "source": [
    "print('Enter the edges of the graph in the format (u, v, weight): ')\n",
    "\n",
    "for _ in range(edges):\n",
    "    u, v, weight = tuple(map(int, input().split(' ')))\n",
    "    g.add_edge(u, v, weight)\n",
    "\n",
    "g.show()"
   ]
  }
 ],
 "metadata": {
  "kernelspec": {
   "display_name": "Python 3 (ipykernel)",
   "language": "python",
   "name": "python3"
  },
  "language_info": {
   "codemirror_mode": {
    "name": "ipython",
    "version": 3
   },
   "file_extension": ".py",
   "mimetype": "text/x-python",
   "name": "python",
   "nbconvert_exporter": "python",
   "pygments_lexer": "ipython3",
   "version": "3.10.6"
  }
 },
 "nbformat": 4,
 "nbformat_minor": 5
}
