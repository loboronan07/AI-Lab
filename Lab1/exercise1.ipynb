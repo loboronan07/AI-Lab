{
 "cells": [
  {
   "cell_type": "code",
   "execution_count": 1,
   "id": "f070ec0b",
   "metadata": {},
   "outputs": [],
   "source": [
    "class Stack:\n",
    "    def __init__(self):\n",
    "        self.stack = []\n",
    "    \n",
    "    def push(self, val):\n",
    "        self.stack.append(val)\n",
    "    \n",
    "    def pop(self):\n",
    "        if not self.is_empty():\n",
    "            return self.stack.pop()\n",
    "        else:\n",
    "            return None\n",
    "    \n",
    "    def is_empty(self):\n",
    "        return not bool(self.stack)"
   ]
  },
  {
   "cell_type": "code",
   "execution_count": 2,
   "id": "b7ec2325",
   "metadata": {},
   "outputs": [],
   "source": [
    "class Queue:\n",
    "    def __init__(self):\n",
    "        self.s1 = Stack()\n",
    "        self.s2 = Stack()\n",
    "    \n",
    "    def enqueue(self, val):\n",
    "        self.s1.push(val)\n",
    "    \n",
    "    def dequeue(self):\n",
    "        if not self.s1.is_empty():\n",
    "            ele = self.s1.pop()\n",
    "            \n",
    "            while not self.s1.is_empty():\n",
    "                self.s2.push(ele)\n",
    "                ele = self.s1.pop()\n",
    "            \n",
    "            while not self.s2.is_empty():\n",
    "                self.s1.push(self.s2.pop())\n",
    "            \n",
    "            return ele\n",
    "        else:\n",
    "            return None"
   ]
  },
  {
   "cell_type": "code",
   "execution_count": 3,
   "id": "d7b5b990",
   "metadata": {},
   "outputs": [
    {
     "name": "stdout",
     "output_type": "stream",
     "text": [
      "Available Operations: \n",
      "\t1. Enqueue\n",
      "\t2. Dequeue\n",
      "\t3. Exit\n",
      "Enter your choice: 1\n",
      "Enter value to enqueue: 1\n",
      "Enter your choice: 1\n",
      "Enter value to enqueue: 2\n",
      "Enter your choice: 1\n",
      "Enter value to enqueue: 3\n",
      "Enter your choice: 2\n",
      "1 was dequeued...\n",
      "Enter your choice: 2\n",
      "2 was dequeued...\n",
      "Enter your choice: 3\n"
     ]
    }
   ],
   "source": [
    "q = Queue()\n",
    "\n",
    "print('Available Operations: ')\n",
    "print('\\t1. Enqueue')\n",
    "print('\\t2. Dequeue')\n",
    "print('\\t3. Exit')\n",
    "\n",
    "while True:\n",
    "    choice = int(input('Enter your choice: '))\n",
    "    \n",
    "    if choice == 1:\n",
    "        ele = int(input('Enter value to enqueue: '))\n",
    "        q.enqueue(ele)\n",
    "        \n",
    "    elif choice == 2:\n",
    "        ele = q.dequeue()\n",
    "            \n",
    "        if ele:\n",
    "            print(f'{ele} was dequeued...')\n",
    "        else:\n",
    "            print('Queue Empty...')\n",
    "            \n",
    "    elif choice == 3:\n",
    "        break\n",
    "        \n",
    "    else:\n",
    "        print('Enter a valid operation. Please try again...')"
   ]
  }
 ],
 "metadata": {
  "kernelspec": {
   "display_name": "Python 3 (ipykernel)",
   "language": "python",
   "name": "python3"
  },
  "language_info": {
   "codemirror_mode": {
    "name": "ipython",
    "version": 3
   },
   "file_extension": ".py",
   "mimetype": "text/x-python",
   "name": "python",
   "nbconvert_exporter": "python",
   "pygments_lexer": "ipython3",
   "version": "3.10.6"
  }
 },
 "nbformat": 4,
 "nbformat_minor": 5
}
