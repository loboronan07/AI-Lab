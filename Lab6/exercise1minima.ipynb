{
 "cells": [
  {
   "cell_type": "code",
   "execution_count": 1,
   "id": "c741ec64",
   "metadata": {},
   "outputs": [],
   "source": [
    "import numpy as np\n",
    "import matplotlib.pyplot as plt\n",
    "import networkx as nx"
   ]
  },
  {
   "cell_type": "code",
   "execution_count": 2,
   "id": "1cd8b86a",
   "metadata": {},
   "outputs": [],
   "source": [
    "class Graph:\n",
    "    def __init__(self):\n",
    "        self.adjlist = dict()\n",
    "        self.g = nx.Graph()\n",
    "        \n",
    "    def addedge(self, u, v):\n",
    "        if u in self.adjlist:\n",
    "            self.adjlist[u].append(v)\n",
    "        else:\n",
    "            self.adjlist[u] = [v]\n",
    "        \n",
    "        if v in self.adjlist:\n",
    "            self.adjlist[v].append(u)\n",
    "        else:\n",
    "            self.adjlist[v] = [u]\n",
    "            \n",
    "        self.g.add_edge(u, v, weight=1)\n",
    "        \n",
    "    def visualize(self): \n",
    "        pos = nx.kamada_kawai_layout(self.g)\n",
    "        nx.draw(self.g, pos=pos, with_labels=True, alpha=0.8)\n",
    "        plt.show()"
   ]
  },
  {
   "cell_type": "code",
   "execution_count": 3,
   "id": "4a545228",
   "metadata": {},
   "outputs": [],
   "source": [
    "class PQueue:\n",
    "    def __init__(self):\n",
    "        self.queue = []\n",
    "        \n",
    "    def isEmpty(self):\n",
    "        return len(self.queue) == 0\n",
    "    \n",
    "    def enqueue(self, ele, pri):\n",
    "        self.queue.append((ele, pri))\n",
    "    \n",
    "    def dequeuemin(self):\n",
    "        if self.isEmpty():\n",
    "            return None, None\n",
    "        \n",
    "        self.queue.sort(key=lambda x:x[1])\n",
    "        \n",
    "        ele, pri = self.queue.pop(0)\n",
    "        \n",
    "        return ele, pri\n",
    "    \n",
    "    def dequeuemax(self):\n",
    "        if self.isEmpty():\n",
    "            return None, None\n",
    "        \n",
    "        self.queue.sort(key=lambda x:x[1])\n",
    "        \n",
    "        ele, pri = self.queue.pop(-1)\n",
    "        \n",
    "        return ele, pri"
   ]
  },
  {
   "cell_type": "code",
   "execution_count": 4,
   "id": "62c81314",
   "metadata": {},
   "outputs": [],
   "source": [
    "def heuristic(n):\n",
    "    return n**2\n",
    "\n",
    "def hillclimbsearch(graph, start):\n",
    "    curr = start\n",
    "    currheu = heuristic(start)\n",
    "    \n",
    "    while True:\n",
    "        children = graph.adjlist[curr]\n",
    "        \n",
    "        q = PQueue()\n",
    "        for child in children:\n",
    "            q.enqueue(child, heuristic(child))\n",
    "            \n",
    "        child, heu = q.dequeuemin()\n",
    "        \n",
    "        if heu < currheu:\n",
    "            curr = child\n",
    "            currheu = heu\n",
    "        else:\n",
    "            return curr"
   ]
  },
  {
   "cell_type": "code",
   "execution_count": 5,
   "id": "83f48493",
   "metadata": {},
   "outputs": [
    {
     "name": "stderr",
     "output_type": "stream",
     "text": [
      "P:\\anaconda3\\lib\\site-packages\\scipy\\__init__.py:146: UserWarning: A NumPy version >=1.16.5 and <1.23.0 is required for this version of SciPy (detected version 1.23.3\n",
      "  warnings.warn(f\"A NumPy version >={np_minversion} and <{np_maxversion}\"\n"
     ]
    },
    {
     "data": {
      "image/png": "[encoded data removed]",
      "text/plain": [
       "<Figure size 432x288 with 1 Axes>"
      ]
     },
     "metadata": {},
     "output_type": "display_data"
    }
   ],
   "source": [
    "g = Graph()\n",
    "\n",
    "for i in range(-9, 11):\n",
    "    g.addedge(i, i-1)\n",
    "    \n",
    "g.visualize()"
   ]
  },
  {
   "cell_type": "code",
   "execution_count": 6,
   "id": "3b53bd03",
   "metadata": {},
   "outputs": [
    {
     "name": "stdout",
     "output_type": "stream",
     "text": [
      "The node with minimum value for f(x) is 0 from -2.\n"
     ]
    }
   ],
   "source": [
    "start = -2\n",
    "\n",
    "minnode = hillclimbsearch(g, start)\n",
    "\n",
    "print(f\"The node with minimum value for f(x) is {minnode} from {start}.\")"
   ]
  },
  {
   "cell_type": "code",
   "execution_count": null,
   "id": "54188be9",
   "metadata": {},
   "outputs": [],
   "source": []
  }
 ],
 "metadata": {
  "kernelspec": {
   "display_name": "Python 3 (ipykernel)",
   "language": "python",
   "name": "python3"
  },
  "language_info": {
   "codemirror_mode": {
    "name": "ipython",
    "version": 3
   },
   "file_extension": ".py",
   "mimetype": "text/x-python",
   "name": "python",
   "nbconvert_exporter": "python",
   "pygments_lexer": "ipython3",
   "version": "3.9.12"
  }
 },
 "nbformat": 4,
 "nbformat_minor": 5
}
