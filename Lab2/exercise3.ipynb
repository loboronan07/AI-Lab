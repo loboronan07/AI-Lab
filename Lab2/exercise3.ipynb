{
 "cells": [
  {
   "cell_type": "code",
   "execution_count": 1,
   "id": "55ec42ee",
   "metadata": {},
   "outputs": [],
   "source": [
    "class Graph:\n",
    "    def __init__(self, n):\n",
    "        adjlist = dict()\n",
    "\n",
    "        for i in range(n):\n",
    "            adjlist[f'{i}'] = []\n",
    "        \n",
    "        self.adjlist = adjlist\n",
    "        self.n = n\n",
    "    \n",
    "    def add_edge(self, u, v, weight):\n",
    "        self.adjlist[f'{u}'].append([v, weight])\n",
    "    \n",
    "    def show(self):\n",
    "        print('Adjacency List: ')\n",
    "        \n",
    "        for i in range(self.n):\n",
    "            l = self.adjlist[f'{i}']\n",
    "            \n",
    "            if l:\n",
    "                for j in range(len(l)):\n",
    "                    print(f'({i} -> {l[j][0]}, {l[j][1]}) ', end='')\n",
    "                print()"
   ]
  },
  {
   "cell_type": "code",
   "execution_count": 4,
   "id": "bc71af6a",
   "metadata": {},
   "outputs": [
    {
     "name": "stdout",
     "output_type": "stream",
     "text": [
      "Enter the number of vertices: 6\n",
      "Enter the number of edges: 7\n",
      "Enter the edges of the graph in the format (u, v, weight): \n",
      "0 1 6\n",
      "1 2 7\n",
      "2 0 5\n",
      "2 1 4\n",
      "3 2 10\n",
      "4 5 1\n",
      "5 4 3\n",
      "Adjacency List: \n",
      "(0 -> 1, 6) \n",
      "(1 -> 2, 7) \n",
      "(2 -> 0, 5) (2 -> 1, 4) \n",
      "(3 -> 2, 10) \n",
      "(4 -> 5, 1) \n",
      "(5 -> 4, 3) \n"
     ]
    }
   ],
   "source": [
    "n = int(input('Enter the number of vertices: '))\n",
    "edges = int(input('Enter the number of edges: '))\n",
    "\n",
    "g = Graph(n)\n",
    "\n",
    "print('Enter the edges of the graph in the format (u, v, weight): ')\n",
    "\n",
    "for _ in range(edges):\n",
    "    u, v, weight = tuple(map(int, input().split(' ')))\n",
    "    g.add_edge(u, v, weight)\n",
    "\n",
    "g.show()"
   ]
  },
  {
   "cell_type": "code",
   "execution_count": null,
   "id": "62dc7eea",
   "metadata": {},
   "outputs": [],
   "source": []
  }
 ],
 "metadata": {
  "kernelspec": {
   "display_name": "Python 3 (ipykernel)",
   "language": "python",
   "name": "python3"
  },
  "language_info": {
   "codemirror_mode": {
    "name": "ipython",
    "version": 3
   },
   "file_extension": ".py",
   "mimetype": "text/x-python",
   "name": "python",
   "nbconvert_exporter": "python",
   "pygments_lexer": "ipython3",
   "version": "3.10.6"
  }
 },
 "nbformat": 4,
 "nbformat_minor": 5
}
