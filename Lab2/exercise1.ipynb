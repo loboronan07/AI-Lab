{
 "cells": [
  {
   "cell_type": "code",
   "execution_count": 9,
   "id": "82a20cbd",
   "metadata": {},
   "outputs": [],
   "source": [
    "class Customer:\n",
    "    def __init__(self, name, transaction):\n",
    "        self.name = name\n",
    "        self.__transaction = transaction"
   ]
  },
  {
   "cell_type": "code",
   "execution_count": 10,
   "id": "9239b395",
   "metadata": {},
   "outputs": [],
   "source": [
    "class Bank:\n",
    "    def __init__(self):\n",
    "        self.queue = []\n",
    "        \n",
    "    def add_customer(self, customer):\n",
    "        self.queue.append(customer)\n",
    "    \n",
    "    def serve_customer(self):\n",
    "        if self.is_queue_empty():\n",
    "            print(\"No Customers to Serve\")\n",
    "        else:\n",
    "            customer = self.queue.pop(0)\n",
    "            print(f\"Serving {customer.name}...\")\n",
    "        \n",
    "    def is_queue_empty(self):\n",
    "        return not bool(self.queue)"
   ]
  },
  {
   "cell_type": "code",
   "execution_count": 11,
   "id": "5b9b2d03",
   "metadata": {},
   "outputs": [
    {
     "name": "stdout",
     "output_type": "stream",
     "text": [
      "Available Operations: \n",
      "\t1. Add Customers to Queue\n",
      "\t2. Attend to Customer\n",
      "\t3. Close\n",
      "\n",
      "Enter your operation: 1\n",
      "Enter Customer Name: Ronan\n",
      "Enter the amount of Transaction: 1000\n",
      "Enter your operation: 1\n",
      "Enter Customer Name: Harry\n",
      "Enter the amount of Transaction: 2000\n",
      "Enter your operation: 2\n",
      "Serving Ronan...\n",
      "Enter your operation: 2\n",
      "Serving Harry...\n",
      "Enter your operation: 3\n"
     ]
    }
   ],
   "source": [
    "b = Bank()\n",
    "\n",
    "print('Available Operations: ')\n",
    "print('\\t1. Add Customers to Queue')\n",
    "print('\\t2. Attend to Customer')\n",
    "print('\\t3. Close\\n')\n",
    "\n",
    "while True:\n",
    "    choice = int(input('Enter your operation: '))\n",
    "    \n",
    "    if choice == 1:\n",
    "        name = input('Enter Customer Name: ')\n",
    "        transaction = int(input('Enter the amount of Transaction: '))\n",
    "        \n",
    "        b.add_customer(Customer(name, transaction))\n",
    "        \n",
    "    elif choice == 2:\n",
    "        b.serve_customer()\n",
    "    \n",
    "    elif choice == 3:\n",
    "        break\n",
    "        \n",
    "    else:\n",
    "        print(\"Invalid Choice. Please Try Again...\")\n",
    "        \n",
    "if not b.is_queue_empty():\n",
    "    print('Customers still waiting in queue. Attending Customers...')\n",
    "    \n",
    "    while not b.is_queue_empty():\n",
    "        b.serve_customer()"
   ]
  }
 ],
 "metadata": {
  "kernelspec": {
   "display_name": "Python 3 (ipykernel)",
   "language": "python",
   "name": "python3"
  },
  "language_info": {
   "codemirror_mode": {
    "name": "ipython",
    "version": 3
   },
   "file_extension": ".py",
   "mimetype": "text/x-python",
   "name": "python",
   "nbconvert_exporter": "python",
   "pygments_lexer": "ipython3",
   "version": "3.10.6"
  }
 },
 "nbformat": 4,
 "nbformat_minor": 5
}
