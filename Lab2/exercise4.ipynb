{
 "cells": [
  {
   "cell_type": "code",
   "execution_count": 1,
   "id": "cdb9d007",
   "metadata": {},
   "outputs": [],
   "source": [
    "class Graph:\n",
    "    def __init__(self, n):\n",
    "        adjlist = dict()\n",
    "\n",
    "        for i in range(n):\n",
    "            adjlist[f\"{chr(65+i)}\"] = []\n",
    "\n",
    "        adjmat = []\n",
    "        for _ in range(n):\n",
    "            l = [0 for __ in range(n)]\n",
    "            adjmat.append(l)\n",
    "        \n",
    "        self.adjlist = adjlist\n",
    "        self.adjmat = adjmat\n",
    "    \n",
    "    def add_edge(self, u, v):\n",
    "        self.adjlist[f'{u}'].append(v)\n",
    "        self.adjlist[f'{v}'].append(u)\n",
    "        self.adjmat[ord(u)-65][ord(v)-65] = 1\n",
    "        self.adjmat[ord(v)-65][ord(u)-65] = 1\n",
    "    \n",
    "    def show(self):\n",
    "        print('Adjacency List: ')\n",
    "        print(self.adjlist)\n",
    "        print('Adjacency Matrix: ')\n",
    "        print(self.adjmat)"
   ]
  },
  {
   "cell_type": "code",
   "execution_count": 2,
   "id": "a131f9e6",
   "metadata": {},
   "outputs": [
    {
     "name": "stdout",
     "output_type": "stream",
     "text": [
      "Enter the number of vertices: 5\n",
      "Enter the number of edges: 6\n",
      "Enter the edges of the graph in the format (u, v): \n",
      "A B\n",
      "A C\n",
      "A E\n",
      "B C\n",
      "C E\n",
      "C D\n",
      "Adjacency List: \n",
      "{'A': ['B', 'C', 'E'], 'B': ['A', 'C'], 'C': ['A', 'B', 'E', 'D'], 'D': ['C'], 'E': ['A', 'C']}\n",
      "Adjacency Matrix: \n",
      "[[0, 1, 1, 0, 1], [1, 0, 1, 0, 0], [1, 1, 0, 1, 1], [0, 0, 1, 0, 0], [1, 0, 1, 0, 0]]\n"
     ]
    }
   ],
   "source": [
    "n = int(input('Enter the number of vertices: '))\n",
    "edges = int(input('Enter the number of edges: '))\n",
    "\n",
    "g = Graph(n)\n",
    "\n",
    "print('Enter the edges of the graph in the format (u, v): ')\n",
    "\n",
    "for _ in range(edges):\n",
    "    u, v = tuple(input().split(' '))\n",
    "    g.add_edge(u, v)\n",
    "\n",
    "g.show()"
   ]
  },
  {
   "cell_type": "code",
   "execution_count": null,
   "id": "4e3f13d7",
   "metadata": {},
   "outputs": [],
   "source": []
  }
 ],
 "metadata": {
  "kernelspec": {
   "display_name": "Python 3 (ipykernel)",
   "language": "python",
   "name": "python3"
  },
  "language_info": {
   "codemirror_mode": {
    "name": "ipython",
    "version": 3
   },
   "file_extension": ".py",
   "mimetype": "text/x-python",
   "name": "python",
   "nbconvert_exporter": "python",
   "pygments_lexer": "ipython3",
   "version": "3.10.6"
  }
 },
 "nbformat": 4,
 "nbformat_minor": 5
}
