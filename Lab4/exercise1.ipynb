{
 "cells": [
  {
   "cell_type": "code",
   "execution_count": 15,
   "id": "05325021",
   "metadata": {},
   "outputs": [],
   "source": [
    "from collections import deque"
   ]
  },
  {
   "cell_type": "code",
   "execution_count": 16,
   "id": "b50c49a9",
   "metadata": {},
   "outputs": [],
   "source": [
    "class Graph:\n",
    "    def __init__(self, n):\n",
    "        self.n = n;\n",
    "        self.adjmat = []\n",
    "        for i in range(n):\n",
    "            self.adjmat.append([0 for j in range(n)])\n",
    "        \n",
    "    def addedge(self, u, v):\n",
    "        self.adjmat[u][v] = 1;"
   ]
  },
  {
   "cell_type": "code",
   "execution_count": 21,
   "id": "0aae0b16",
   "metadata": {},
   "outputs": [],
   "source": [
    "def topsort(g):\n",
    "    stack = []\n",
    "    visited = set()\n",
    "    \n",
    "    for i in range(g.n):\n",
    "        if i not in visited:\n",
    "            bfs(g, i, stack, visited)\n",
    "            \n",
    "    while stack:\n",
    "        print(f\"{stack.pop()} \", end=\"\")\n",
    "\n",
    "def bfs(g, v, s, visited):\n",
    "    visited.add(v)\n",
    "    q = deque()\n",
    "    q.append(v)\n",
    "    stack = []\n",
    "    \n",
    "    while q:\n",
    "        curr = q.popleft()\n",
    "        for i in range(g.n):\n",
    "            if g.adjmat[curr][i] == 1 and i not in visited:\n",
    "                visited.add(i)\n",
    "                q.append(i)\n",
    "        \n",
    "        stack.append(curr)\n",
    "    \n",
    "    while stack:\n",
    "        s.append(stack.pop())"
   ]
  },
  {
   "cell_type": "code",
   "execution_count": 22,
   "id": "75e8ef39",
   "metadata": {},
   "outputs": [],
   "source": [
    "g = Graph(6)\n",
    "g.addedge(5, 0)\n",
    "g.addedge(5, 2)\n",
    "g.addedge(4, 0)\n",
    "g.addedge(4, 1)\n",
    "g.addedge(2, 3)\n",
    "g.addedge(3, 1)"
   ]
  },
  {
   "cell_type": "code",
   "execution_count": 23,
   "id": "f3afd953",
   "metadata": {
    "scrolled": false
   },
   "outputs": [
    {
     "name": "stdout",
     "output_type": "stream",
     "text": [
      "5 4 2 3 1 0 "
     ]
    }
   ],
   "source": [
    "topsort(g)"
   ]
  },
  {
   "cell_type": "code",
   "execution_count": null,
   "id": "abaf36d6",
   "metadata": {},
   "outputs": [],
   "source": []
  }
 ],
 "metadata": {
  "kernelspec": {
   "display_name": "Python 3 (ipykernel)",
   "language": "python",
   "name": "python3"
  },
  "language_info": {
   "codemirror_mode": {
    "name": "ipython",
    "version": 3
   },
   "file_extension": ".py",
   "mimetype": "text/x-python",
   "name": "python",
   "nbconvert_exporter": "python",
   "pygments_lexer": "ipython3",
   "version": "3.10.6"
  }
 },
 "nbformat": 4,
 "nbformat_minor": 5
}
