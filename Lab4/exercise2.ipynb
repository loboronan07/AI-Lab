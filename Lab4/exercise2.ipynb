{
 "cells": [
  {
   "cell_type": "code",
   "execution_count": 1,
   "id": "fa49e9ba",
   "metadata": {},
   "outputs": [],
   "source": [
    "class Graph:\n",
    "    def __init__(self, n):\n",
    "        self.n = n;\n",
    "        self.adjmat = []\n",
    "        for i in range(n):\n",
    "            self.adjmat.append([0 for j in range(n)])\n",
    "        \n",
    "    def addedge(self, u, v):\n",
    "        self.adjmat[u][v] = 1;"
   ]
  },
  {
   "cell_type": "code",
   "execution_count": 2,
   "id": "5dced5a7",
   "metadata": {},
   "outputs": [],
   "source": [
    "from collections import deque"
   ]
  },
  {
   "cell_type": "code",
   "execution_count": 33,
   "id": "5144a787",
   "metadata": {},
   "outputs": [],
   "source": [
    "def detectcycles(g):\n",
    "    visited = set()\n",
    "    flag = False\n",
    "    \n",
    "    for i in range(g.n):\n",
    "        if i not in visited:\n",
    "            if cycle(g, i, visited):\n",
    "                flag = True\n",
    "                break\n",
    "    \n",
    "    if flag:\n",
    "        print(\"Cycles Detected in Graph...\")\n",
    "    else:\n",
    "        print(\"The Graph is Acyclic...\")\n",
    "     \n",
    "    \n",
    "def cycle(g, v, visited):\n",
    "    curr = set()\n",
    "    q = deque()\n",
    "    q.append(v)\n",
    "    flag = False\n",
    "    \n",
    "    while q:\n",
    "        node = q.popleft()\n",
    "        \n",
    "        curr.add(node)\n",
    "        \n",
    "        for i in range(g.n):\n",
    "            if g.adjmat[node][i] == 1:\n",
    "                if i in curr:\n",
    "                    flag = True\n",
    "                    break\n",
    "\n",
    "                if i not in visited:\n",
    "                    q.append(i)\n",
    "    \n",
    "    if flag:\n",
    "        return True\n",
    "    else:\n",
    "        for node in curr:\n",
    "            visited.add(node)\n",
    "        return False"
   ]
  },
  {
   "cell_type": "code",
   "execution_count": 34,
   "id": "4bc0994d",
   "metadata": {},
   "outputs": [],
   "source": [
    "g = Graph(4)\n",
    "g.addedge(0, 1)\n",
    "g.addedge(0, 2)\n",
    "g.addedge(1, 2)\n",
    "g.addedge(2, 0)\n",
    "g.addedge(2, 3)\n",
    "g.addedge(3, 3)"
   ]
  },
  {
   "cell_type": "code",
   "execution_count": 35,
   "id": "f36a44e4",
   "metadata": {},
   "outputs": [
    {
     "name": "stdout",
     "output_type": "stream",
     "text": [
      "Cycles Detected in Graph...\n"
     ]
    }
   ],
   "source": [
    "detectcycles(g)"
   ]
  },
  {
   "cell_type": "code",
   "execution_count": 36,
   "id": "7c7bbe2a",
   "metadata": {},
   "outputs": [],
   "source": [
    "g = Graph(6)\n",
    "g.addedge(5, 0)\n",
    "g.addedge(5, 2)\n",
    "g.addedge(4, 0)\n",
    "g.addedge(4, 1)\n",
    "g.addedge(2, 3)\n",
    "g.addedge(3, 1)"
   ]
  },
  {
   "cell_type": "code",
   "execution_count": 37,
   "id": "06df80c0",
   "metadata": {},
   "outputs": [
    {
     "name": "stdout",
     "output_type": "stream",
     "text": [
      "The Graph is Acyclic...\n"
     ]
    }
   ],
   "source": [
    "detectcycles(g)"
   ]
  },
  {
   "cell_type": "code",
   "execution_count": null,
   "id": "7977a16e",
   "metadata": {},
   "outputs": [],
   "source": []
  }
 ],
 "metadata": {
  "kernelspec": {
   "display_name": "Python 3 (ipykernel)",
   "language": "python",
   "name": "python3"
  },
  "language_info": {
   "codemirror_mode": {
    "name": "ipython",
    "version": 3
   },
   "file_extension": ".py",
   "mimetype": "text/x-python",
   "name": "python",
   "nbconvert_exporter": "python",
   "pygments_lexer": "ipython3",
   "version": "3.10.6"
  }
 },
 "nbformat": 4,
 "nbformat_minor": 5
}
