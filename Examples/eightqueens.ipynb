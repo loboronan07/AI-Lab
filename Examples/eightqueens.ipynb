{
 "cells": [
  {
   "cell_type": "code",
   "execution_count": 1,
   "id": "20dc8444",
   "metadata": {},
   "outputs": [],
   "source": [
    "import numpy as np\n",
    "import matplotlib.pyplot as plt\n",
    "import random\n",
    "from PIL import Image"
   ]
  },
  {
   "cell_type": "code",
   "execution_count": 81,
   "id": "4cd260cc",
   "metadata": {},
   "outputs": [],
   "source": [
    "class Board:\n",
    "    def __init__(self, n, mat=None):\n",
    "        self.n = n\n",
    "        if mat == None:\n",
    "            mat = []\n",
    "            for i in range(n):\n",
    "                mat.append([0 for j in range(n)])\n",
    "        self.mat = mat\n",
    "        \n",
    "    def placequeen(self, r, c):\n",
    "        self.mat[r][c] = 1\n",
    "    \n",
    "    def removequeen(self, r, c):\n",
    "        self.mat[r][c] = 0\n",
    "    \n",
    "    def printboard(self):\n",
    "        cell = np.ones((143, 143)) * 0.4375\n",
    "        \n",
    "        queen1 = Image.open('queencell1.png')\n",
    "        queen1 = np.asarray(queen1) / 255\n",
    "        queen1 = queen1[:,:,0]\n",
    "        queen2 = Image.open('queencell2.png')\n",
    "        queen2 = np.asarray(queen2) / 255\n",
    "        queen2 = queen2[:,:,0]\n",
    "        \n",
    "        image = np.ones((self.n*143, self.n*143))\n",
    "        \n",
    "        for i in range(self.n):\n",
    "            for j in range(self.n):\n",
    "                if (i+j) % 2 == 0:\n",
    "                    image[i*143:(i+1)*143, j*143:(j+1)*143] = cell.copy()\n",
    "                \n",
    "                if self.mat[i][j] == 1:\n",
    "                    if (i+j) % 2 == 0:\n",
    "                        image[i*143:(i+1)*143, j*143:(j+1)*143] = queen2.copy()\n",
    "                    else:\n",
    "                        image[i*143:(i+1)*143, j*143:(j+1)*143] = queen1.copy()\n",
    "    \n",
    "        plt.imshow(image, cmap='gray')\n",
    "        plt.xticks([])\n",
    "        plt.yticks([])\n",
    "        plt.show()\n",
    "        \n",
    "    def getcopy(self):\n",
    "        n = self.n\n",
    "        matrix = []\n",
    "        for row in self.mat:\n",
    "            matrix.append([r for r in row])\n",
    "        \n",
    "        return Board(n, matrix)            "
   ]
  },
  {
   "cell_type": "code",
   "execution_count": 82,
   "id": "dc77a8fa",
   "metadata": {},
   "outputs": [],
   "source": [
    "def solveeightqueens(n):\n",
    "    soln = []\n",
    "    \n",
    "    board = Board(n)\n",
    "    \n",
    "    for i in range(board.n):\n",
    "        board.placequeen(i, 0)\n",
    "        dfs(board, 1, soln)\n",
    "        board.removequeen(i, 0)\n",
    "        \n",
    "    return soln\n",
    "        \n",
    "def dfs(board, col, soln):\n",
    "    if col == board.n:\n",
    "        soln.append(board.getcopy())\n",
    "        return\n",
    "    \n",
    "    for i in range(board.n):\n",
    "        if checkpos(board, (i, col)):\n",
    "            board.placequeen(i, col)\n",
    "            dfs(board, col+1, soln)\n",
    "            board.removequeen(i, col)\n",
    "    \n",
    "    \n",
    "def checkpos(board, pos):\n",
    "    r, c = pos\n",
    "    \n",
    "    for i in range(c):\n",
    "        if board.mat[r][i] == 1:\n",
    "            return False\n",
    "    \n",
    "    i, j = r-1, c-1\n",
    "    while i >= 0 and j >= 0:\n",
    "        if board.mat[i][j] == 1:\n",
    "            return False\n",
    "        i -= 1\n",
    "        j -= 1\n",
    "    \n",
    "    i, j = r+1, c-1\n",
    "    while i < board.n and j >= 0:\n",
    "        if board.mat[i][j] == 1:\n",
    "            return False\n",
    "        i += 1\n",
    "        j -= 1\n",
    "        \n",
    "    return True"
   ]
  },
  {
   "cell_type": "code",
   "execution_count": 87,
   "id": "19da5bd9",
   "metadata": {},
   "outputs": [],
   "source": [
    "soln = solveeightqueens(8)"
   ]
  },
  {
   "cell_type": "code",
   "execution_count": 88,
   "id": "58deb2ac",
   "metadata": {
    "scrolled": true
   },
   "outputs": [
    {
     "name": "stdout",
     "output_type": "stream",
     "text": [
      "A possible solution could be:\n"
     ]
    },
    {
     "data": {
      "image/png": "[encoded data removed]",
      "text/plain": [
       "<Figure size 432x288 with 1 Axes>"
      ]
     },
     "metadata": {},
     "output_type": "display_data"
    }
   ],
   "source": [
    "print(\"A possible solution could be:\")\n",
    "random.choice(soln).printboard()"
   ]
  },
  {
   "cell_type": "code",
   "execution_count": null,
   "id": "7d2c73f1",
   "metadata": {},
   "outputs": [],
   "source": []
  }
 ],
 "metadata": {
  "kernelspec": {
   "display_name": "Python 3 (ipykernel)",
   "language": "python",
   "name": "python3"
  },
  "language_info": {
   "codemirror_mode": {
    "name": "ipython",
    "version": 3
   },
   "file_extension": ".py",
   "mimetype": "text/x-python",
   "name": "python",
   "nbconvert_exporter": "python",
   "pygments_lexer": "ipython3",
   "version": "3.9.12"
  }
 },
 "nbformat": 4,
 "nbformat_minor": 5
}
